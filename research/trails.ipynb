{
 "cells": [
  {
   "cell_type": "code",
   "execution_count": 6,
   "id": "9c0647f0",
   "metadata": {},
   "outputs": [],
   "source": [
    "import os"
   ]
  },
  {
   "cell_type": "code",
   "execution_count": 7,
   "id": "ceb577a4",
   "metadata": {},
   "outputs": [
    {
     "data": {
      "text/plain": [
       "'c:\\\\Users\\\\H P\\\\Desktop\\\\Langchain Projects\\\\Resume_Parser_Using_NLP_LLM\\\\research'"
      ]
     },
     "execution_count": 7,
     "metadata": {},
     "output_type": "execute_result"
    }
   ],
   "source": [
    "%pwd"
   ]
  },
  {
   "cell_type": "code",
   "execution_count": 8,
   "id": "9a6f2fb9",
   "metadata": {},
   "outputs": [],
   "source": [
    "os.chdir(\"../\")"
   ]
  },
  {
   "cell_type": "code",
   "execution_count": 9,
   "id": "f7c36952",
   "metadata": {},
   "outputs": [
    {
     "data": {
      "text/plain": [
       "'c:\\\\Users\\\\H P\\\\Desktop\\\\Langchain Projects\\\\Resume_Parser_Using_NLP_LLM'"
      ]
     },
     "execution_count": 9,
     "metadata": {},
     "output_type": "execute_result"
    }
   ],
   "source": [
    "%pwd"
   ]
  },
  {
   "cell_type": "code",
   "execution_count": 10,
   "id": "fe64ced3",
   "metadata": {},
   "outputs": [],
   "source": [
    "from resumeParser.pdf_reader import extract_text_from_pdf\n",
    "from resumeParser.parser import parse_resume\n"
   ]
  },
  {
   "cell_type": "code",
   "execution_count": 12,
   "id": "43666461",
   "metadata": {},
   "outputs": [
    {
     "name": "stdout",
     "output_type": "stream",
     "text": [
      "SHABAREESH NAIR\n",
      "AI Engineer | Data Scientist | Machine Learning Engineer\n",
      "PERSONAL DETAILS\n",
      "Al Khor, Qatar\n",
      "shabareesh08@gmail.com, +974-55865885\n",
      "LinkedIn: linkedin.com/in/shabareesh-nair\n",
      "This resume is made with Jobseeker.com.\n",
      "SUMMARY\n",
      "Motivated Data Science graduate with hands-on experience in AI/ML projects, LLMs, and cloud deployment \n",
      "using Python, TensorFlow, LangChain, and AWS. Eager to contribute and grow in a full-time role as a Data \n",
      "Scientist or AI Engineer. As a fresher, I’m highly willing to learn, adapt, and prove myself if given the \n",
      "opportunity.\n",
      "SKILLS\n",
      "Python programming\n",
      "Deep Learning: ANN, CNN, RNN, Transformers\n",
      "Web API: Flask, Streamlit\n",
      "ML Ops Tools\n",
      "Soft Skills: Communication, Problem-Solving, Fast \n",
      "Learning\n",
      "Machine Learning: Regression, Classification, \n",
      "Clustering\n",
      "Natural Language Processing\n",
      "Data analysis\n",
      "Computer Vision: YOLO\n",
      "Database: SQL, Pinecone Vector\n",
      "PROJECTS\n",
      "Medical Chatbot (LangChain, Flask, OpenAI) Jul 2025 - Jul 2025\n",
      "Built an AI-driven medical assistant with multi-turn conversation using LangChain.\n",
      "Integrated Pinecone vector DB for context-aware Q&A.\n",
      "Deployed Flask UI for real-time interaction.\n",
      "Sign Language Detection (YOLOv5, Flask, AWS, Docker) Jun 2025 - Jun 2025\n",
      "Engineered real-time gesture recognition under 100ms using YOLOv5.\n",
      "Built live Flask web app with OpenCV integration.\n",
      "Deployed on AWS EC2 via Docker with GPU optimization and 99.9% uptime.\n",
      "Books Recommender System (ML, Streamlit, AWS) Jul 2025 - Jul 2025\n",
      "Developed a book recommender using Nearest Neighbors to suggest reads based on user similarity.\n",
      "Built a real-time, interactive UI with Streamlit for seamless user experience.\n",
      "Deployed on AWS for scalable and reliable cloud access.\n",
      "ATM Simulation System (Python, Flask, HTML, CSS) Jul 2025 - Jul 2025\n",
      "Built a realistic ATM simulator using only Python conditionals and loops—no complex frameworks.\n",
      "Developed a modern web interface with Flask, HTML, and Tailwind CSS for smooth user interaction.\n",
      "Simulated core banking features like PIN verification, balance check, withdrawal, and fund transfer.This resume is made with Jobseeker.com.\n",
      "INTERNSHIPS\n",
      "Data Science Dec 2023 - Feb 2024\n",
      "Unified Mentor Pvt Ltd\n",
      "Analyzed data using Pandas, NumPy created visualizations via Matplotlib.\n",
      "Built Tableau dashboards and conducted EDA for business insights.\n",
      "Presented findings and improved outcomes through stakeholder feedback.\n",
      "EDUCATION\n",
      "M.Sc. Data Science Aug 2022 - May 2024\n",
      "S.I.E.S. College of Commerce and Economics, India\n",
      "Ranked in the Top 5% of the class.\n",
      "Completed Academic Projects using Python, Machine Learning, Flask.\n",
      "B.Sc. Computer Science Jun 2017 - Dec 2020\n",
      "V.K.Krishna Menon College\n",
      "Completed my Academic Project Online Sports Shopping Website using php, HTML, CSS, Java.\n",
      "Participated in Coding Competition language - Python.\n",
      "HSC (12th Standard) in Science and Technology Jun 2015 - May 2017\n",
      "Marol Education of Junior College\n",
      "Completed my 12th HSC Board Examination with 56%.\n",
      "Participated in Science Quiz Competition 2016 - Level C.\n",
      "SSC (10th Standard) Jun 2004 - May 2015\n",
      "St. Jude High School\n",
      "Completed my 10th SSC Board Examination with 76% and Ranked in 55 out of 220 Students.\n",
      "CERTIFICATES\n",
      "Science Quiz Level C\n",
      "First Prize in Outdoor Games - Kho-Kho, Soccer, 100 Meter Sprint\n",
      "LANGUAGES\n",
      "English\n",
      "Hindi\n",
      "Malayalam\n"
     ]
    }
   ],
   "source": [
    "file_path = os.path.abspath(\"Resume_File.pdf\")\n",
    "text = extract_text_from_pdf(file_path)\n",
    "print(text)\n"
   ]
  },
  {
   "cell_type": "code",
   "execution_count": null,
   "id": "096557ed",
   "metadata": {},
   "outputs": [],
   "source": []
  }
 ],
 "metadata": {
  "kernelspec": {
   "display_name": "resume-parser-using-nlp-llm",
   "language": "python",
   "name": "python3"
  },
  "language_info": {
   "codemirror_mode": {
    "name": "ipython",
    "version": 3
   },
   "file_extension": ".py",
   "mimetype": "text/x-python",
   "name": "python",
   "nbconvert_exporter": "python",
   "pygments_lexer": "ipython3",
   "version": "3.11.0"
  }
 },
 "nbformat": 4,
 "nbformat_minor": 5
}
